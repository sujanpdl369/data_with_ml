{
 "cells": [
  {
   "cell_type": "code",
   "execution_count": 57,
   "id": "faa7c83d",
   "metadata": {},
   "outputs": [
    {
     "name": "stdout",
     "output_type": "stream",
     "text": [
      "[1, 2, 3, 4, 5, 6, 20, 40, 60]\n"
     ]
    }
   ],
   "source": [
    "from typing import List\n",
    "import json\n",
    "\n",
    "#  Making List of dictionaries, dictionaries of each books, \n",
    "# which contain name, author and published year as keys.\n",
    "\n",
    "books = [{\"name\":\"Machine Learning\", \"author\": \"Ankit Lamsal\", \"published year\": 2002},\n",
    "         {\"name\":\"Deep Learning\", \"author\": \"Andrew NG\", \"published year\": 2010 },\n",
    "         {\"name\":\"Reinforcement Learning\", \"author\": \"Rick Sutton\", \"published year\": 1993 },\n",
    "         {\"name\":\"Sci-Kit Learn\", \"author\": \"Anjit\", \"published year\": 2003},\n",
    "         {\"name\":\"Tensorflow\", \"author\": \"Andrew NG\", \"published year\": 2015 },\n",
    "         {\"name\":\"Graph Learning\", \"author\": \"Mark Zukerburg\", \"published year\": 2021 },\n",
    "         {\"name\":\"Keras\", \"author\": \"Anil\", \"published year\": 2009},\n",
    "         {\"name\":\"Tf Lite\", \"author\": \"Laurence Mooroney\", \"published year\": 2011 },\n",
    "         {\"name\":\"Graph Approach\", \"author\": \"Marc Spector\", \"published year\": 2020 },\n",
    "         {\"name\":\"Pytorch\", \"author\": \"Benedict C.\", \"published year\": 2019 },\n",
    "         ]\n",
    "\n",
    "def swap(list_:list, position1:int, position2:int)->list:\n",
    "   \n",
    "    Args:\n",
    "        list_ (list): List whose element  swapped\n",
    "        position1 (int): Swap Position first\n",
    "        position2 (int): Swap Position second\n",
    "    Returns:\n",
    "        list: Returns swapped list.\n",
    "    \"\"\"    \n",
    "    temp = list_[position1]\n",
    "    list_[position1] = list_[position2]\n",
    "    list_[position2] = temp\n",
    "    return list_\n",
    "\n",
    "\n",
    "def sort(book:list)->list:\n",
    "    \"\"\"This function sorts the list of books based on published year. \n",
    "    Used Bubble sort in sorting an element of an list. \n",
    "    Args:\n",
    "        book (list): List of Dictionaries, each dictionaries having \"name\", \"author\" and \"published year\" as keys.\n",
    "    Returns:\n",
    "        list: Returns the sorted list of books.\n",
    "    \"\"\"    \n",
    "    for i in range(0, len(book)):\n",
    "        for j in range(0, len(book)-i-1):\n",
    "            if(book[j][\"published year\"] > book[j+1][\"published year\"]):\n",
    "                book = swap(book, j, j+1)\n",
    "    return book\n",
    "    \n",
    "sorted_books = sort(books)\n",
    "\n",
    "def write_json(book:list):\n",
    "    \"\"\"This function writes the Previously sorted list in JSON format.\n",
    "    Args:\n",
    "        book (list): Sorted List.\n",
    "    \"\"\"    \n",
    "    with open ('books_list.json', \"w+\") as bookwrite:\n",
    "        bookwrite.write(json.dumps(book))\n",
    "\n",
    "write_json(sorted_books)"
   ]
  },
  {
   "cell_type": "code",
   "execution_count": null,
   "id": "72f81d17",
   "metadata": {},
   "outputs": [],
   "source": []
  },
  {
   "cell_type": "code",
   "execution_count": null,
   "id": "3c6ac45e",
   "metadata": {},
   "outputs": [],
   "source": []
  }
 ],
 "metadata": {
  "kernelspec": {
   "display_name": "Python 3 (ipykernel)",
   "language": "python",
   "name": "python3"
  },
  "language_info": {
   "codemirror_mode": {
    "name": "ipython",
    "version": 3
   },
   "file_extension": ".py",
   "mimetype": "text/x-python",
   "name": "python",
   "nbconvert_exporter": "python",
   "pygments_lexer": "ipython3",
   "version": "3.9.7"
  }
 },
 "nbformat": 4,
 "nbformat_minor": 5
}
