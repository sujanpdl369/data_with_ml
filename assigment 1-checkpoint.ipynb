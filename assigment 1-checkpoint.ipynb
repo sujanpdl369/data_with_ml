{
 "cells": [
  {
   "cell_type": "code",
   "execution_count": 57,
   "id": "a3633a6a",
   "metadata": {},
   "outputs": [
    {
     "name": "stdout",
     "output_type": "stream",
     "text": [
      "[1, 2, 3, 4, 5, 6, 20, 40, 60]\n"
     ]
    }
   ],
   "source": [
    "list_a=[1,2,3,4,5,6]\n",
    "list_b=[10,20,30,40,50,60]\n",
    "\n",
    "for i in range(1,len(list_b),2):\n",
    "    list_a.append(list_b[i])\n",
    "    \n",
    "print(list_a)"
   ]
  },
  {
   "cell_type": "code",
   "execution_count": 58,
   "id": "dffb8f3b",
   "metadata": {},
   "outputs": [
    {
     "name": "stdout",
     "output_type": "stream",
     "text": [
      "['ram', 'sam', 'hari', 'gopal', 'hari', 'krishna']\n",
      "[92, 47, 53, 82, 55]\n",
      "\n",
      "Combine the values of the said two lists into a dictionary:\n",
      "{'krishna', 'hari', 'sam', 'ram', 'gopal'}\n"
     ]
    }
   ],
   "source": [
    "\n",
    "\n",
    "student = ['ram', 'sam', 'hari', 'gopal', 'hari', 'krishna']\n",
    "per = [92, 47, 53, 82, 55,45]     \n",
    "print(student)\n",
    "print(per)\n",
    "print(\"\\nCombine the values of the said two lists into a dictionary:\")\n",
    "dictionary = dict(zip(student, per))\n",
    "dictionary = dict((k, v) for k, v in dictionary.items() if v >= 50)\n",
    "print(dictionary)\n"
   ]
  },
  {
   "cell_type": "code",
   "execution_count": null,
   "id": "7152a871",
   "metadata": {},
   "outputs": [],
   "source": []
  },
  {
   "cell_type": "code",
   "execution_count": null,
   "id": "c78b614e",
   "metadata": {},
   "outputs": [],
   "source": []
  }
 ],
 "metadata": {
  "kernelspec": {
   "display_name": "Python 3 (ipykernel)",
   "language": "python",
   "name": "python3"
  },
  "language_info": {
   "codemirror_mode": {
    "name": "ipython",
    "version": 3
   },
   "file_extension": ".py",
   "mimetype": "text/x-python",
   "name": "python",
   "nbconvert_exporter": "python",
   "pygments_lexer": "ipython3",
   "version": "3.9.7"
  }
 },
 "nbformat": 4,
 "nbformat_minor": 5
}
